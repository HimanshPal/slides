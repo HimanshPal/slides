{
 "cells": [
  {
   "cell_type": "markdown",
   "metadata": {},
   "source": [
    "# NSK Meetup Demo"
   ]
  },
  {
   "cell_type": "markdown",
   "metadata": {},
   "source": [
    "## What is Jupyter and Gophernotes?"
   ]
  },
  {
   "cell_type": "markdown",
   "metadata": {},
   "source": [
    "[Jupyter](http://jupyter.org/) is a web application that allows you to create and share documents that contain live code, equations, visualizations and explanatory text. Uses include: data cleaning and transformation, numerical simulation, statistical modeling, machine learning and much more.\n",
    "\n",
    "[gophernotes](https://github.com/gopherds/gophernotes) is a Go kernel for Juypter that lets you program in Go within a Jupyter notebook (interactively)."
   ]
  },
  {
   "cell_type": "markdown",
   "metadata": {},
   "source": [
    "## This Demo Notebook"
   ]
  },
  {
   "cell_type": "markdown",
   "metadata": {},
   "source": [
    "In this notebook we are going to:\n",
    "\n",
    "1. Explore the github data we gathered.\n",
    "2. Visualize the github data.\n",
    "4. Make a prediction."
   ]
  },
  {
   "cell_type": "markdown",
   "metadata": {},
   "source": [
    "# 1. Exploring our Github Data"
   ]
  },
  {
   "cell_type": "markdown",
   "metadata": {},
   "source": [
    "### 1.1 What does our data look like?"
   ]
  },
  {
   "cell_type": "markdown",
   "metadata": {},
   "source": [
    "Let's use a \"dataframes\" package call Gota, to parse our data and explore it:"
   ]
  },
  {
   "cell_type": "code",
   "execution_count": null,
   "metadata": {
    "collapsed": true
   },
   "outputs": [],
   "source": [
    "import (\n",
    "    \"fmt\"\n",
    "    \"io/ioutil\"\n",
    "    \"github.com/kniren/gota/data-frame\"\n",
    ")"
   ]
  },
  {
   "cell_type": "code",
   "execution_count": null,
   "metadata": {
    "collapsed": false
   },
   "outputs": [],
   "source": [
    "// Pull in the CSV data\n",
    "csvData, err := ioutil.ReadFile(\"repodata.csv\")\n",
    "if err != nil {\n",
    "    fmt.Println(err.Error())\n",
    "}\n",
    "\n",
    "// Load a dataframe from the CSV string.\n",
    "// The types of the columns will be inferred.\n",
    "repoDataFrame := df.ReadCSV(string(csvData))"
   ]
  },
  {
   "cell_type": "code",
   "execution_count": null,
   "metadata": {
    "collapsed": false
   },
   "outputs": [],
   "source": [
    "// We can create and view subsets of our data.\n",
    "// For example, let's get the first and last entries,\n",
    "// and print out only the repo name, forks, stars, and issues.\n",
    "filtered1 := repoDataFrame.Subset([]int{0,repoDataFrame.Nrow()-1}).\n",
    "                            Select(\"repo_name\", \"forks\", \"stars\", \"issues\")"
   ]
  },
  {
   "cell_type": "code",
   "execution_count": null,
   "metadata": {
    "collapsed": false
   },
   "outputs": [],
   "source": [
    "fmt.Println(filtered1)"
   ]
  },
  {
   "cell_type": "code",
   "execution_count": null,
   "metadata": {
    "collapsed": false
   },
   "outputs": [],
   "source": [
    "// We can do cool things like see the\n",
    "// names of repos with more than 30k stars.\n",
    "filtered2 := repoDataFrame.Filter(df.F{\"stars\", \">\", 30000}).Select(\"repo_name\")"
   ]
  },
  {
   "cell_type": "code",
   "execution_count": null,
   "metadata": {
    "collapsed": false
   },
   "outputs": [],
   "source": [
    "fmt.Println(filtered2)"
   ]
  },
  {
   "cell_type": "markdown",
   "metadata": {},
   "source": [
    "### 1.2 Let's pick out only the data we are interested in."
   ]
  },
  {
   "cell_type": "markdown",
   "metadata": {},
   "source": [
    "Let's say that we are only interested in the repos and when they were created.  We are going to parse out only those columns and save back to a processed CSV.  Gota makes this very quick and easy."
   ]
  },
  {
   "cell_type": "code",
   "execution_count": null,
   "metadata": {
    "collapsed": true
   },
   "outputs": [],
   "source": [
    "// Read in the original data.\n",
    "outputData := df.ReadCSV(string(csvData))\n",
    "\n",
    "// Select out the columns of interest.\n",
    "outputData = outputData.Select(\"repo_name\", \"created_date\")\n",
    "\n",
    "// Save this data to another file.\n",
    "b, err := outputData.SaveCSV()\n",
    "if err != nil {\n",
    "    fmt.Println(err)\n",
    "}\n",
    "if err = ioutil.WriteFile(\"processed.csv\", b, 0644); err != nil {\n",
    "    fmt.Println(err)\n",
    "}"
   ]
  },
  {
   "cell_type": "markdown",
   "metadata": {},
   "source": [
    "# 2. Visualize our Data."
   ]
  },
  {
   "cell_type": "markdown",
   "metadata": {},
   "source": [
    "Now that we have picked out the repo names and created datetimes, let's create a time series of the number of Go repos created daily on github.  Then let's visualize that time series with github.com/gonum/plot."
   ]
  },
  {
   "cell_type": "markdown",
   "metadata": {},
   "source": [
    "### 2.1 Create the time series."
   ]
  },
  {
   "cell_type": "code",
   "execution_count": 1,
   "metadata": {
    "collapsed": true
   },
   "outputs": [],
   "source": [
    "import (\n",
    "    \"fmt\"\n",
    "    \"io/ioutil\"\n",
    "    \"bytes\"\n",
    "    \"encoding/csv\"\n",
    "    \"time\"\n",
    "    \"sort\"\n",
    ")"
   ]
  },
  {
   "cell_type": "code",
   "execution_count": 2,
   "metadata": {
    "collapsed": false
   },
   "outputs": [],
   "source": [
    "// Create a map to store the daily counts of created repos.\n",
    "countMap := make(map[int]int)\n",
    "\n",
    "// Get the data..\n",
    "csvData, err := ioutil.ReadFile(\"processed.csv\")\n",
    "if err != nil {\n",
    "    fmt.Println(err.Error())\n",
    "}\n",
    "\n",
    "// Extract the records from the data.\n",
    "reader := csv.NewReader(bytes.NewReader(csvData))\n",
    "reader.FieldsPerRecord = 2\n",
    "records, err := reader.ReadAll()\n",
    "if err != nil {\n",
    "    fmt.Println(err)\n",
    "}\n",
    "\n",
    "// Create a map of daily created repos where the keys are the days and\n",
    "// the values are the counts of created repos on that day.\n",
    "startTime := time.Date(2013, time.January, 1, 0, 0, 0, 0, time.UTC)\n",
    "layout := \"2006-01-02 15:04:05\"\n",
    "for idx, each := range records {\n",
    "    \n",
    "    // Skip the header line\n",
    "    if idx == 0 {\n",
    "        continue\n",
    "    }\n",
    "    \n",
    "    // Parse the time.\n",
    "    t, err := time.Parse(layout, each[1][0:19])\n",
    "    if err != nil {\n",
    "        fmt.Println(err)\n",
    "    }\n",
    "    \n",
    "    // Increment the counter\n",
    "    interval := int(t.Sub(startTime).Hours() / 24.0)\n",
    "    countMap[interval]++\n",
    "}\n",
    "\n",
    "// Sort the day values, which is required for plotting.\n",
    "var keys []int\n",
    "for k := range countMap {\n",
    "    keys = append(keys, k)\n",
    "}\n",
    "sort.Ints(keys)\n",
    "var sortedCounts [][]int\n",
    "for _, k := range keys {\n",
    "    sortedCounts = append(sortedCounts, []int{k, countMap[k]})\n",
    "}"
   ]
  },
  {
   "cell_type": "code",
   "execution_count": 3,
   "metadata": {
    "collapsed": false
   },
   "outputs": [
    {
     "data": {
      "text/plain": [
       "[]\u001b[32m[]int\u001b[0m{\n",
       "  []\u001b[32mint\u001b[0m{\n",
       "    \u001b[34m\u001b[1m0\u001b[0m,\n",
       "    \u001b[34m\u001b[1m14\u001b[0m,\n",
       "  },\n",
       "  []\u001b[32mint\u001b[0m{\n",
       "    \u001b[34m\u001b[1m1\u001b[0m,\n",
       "    \u001b[34m\u001b[1m13\u001b[0m,\n",
       "  },\n",
       "  []\u001b[32mint\u001b[0m{\n",
       "    \u001b[34m\u001b[1m2\u001b[0m,\n",
       "    \u001b[34m\u001b[1m15\u001b[0m,\n",
       "  },\n",
       "  []\u001b[32mint\u001b[0m{\n",
       "    \u001b[34m\u001b[1m3\u001b[0m,\n",
       "    \u001b[34m\u001b[1m13\u001b[0m,\n",
       "  },\n",
       "  []\u001b[32mint\u001b[0m{\n",
       "    \u001b[34m\u001b[1m4\u001b[0m,\n",
       "    \u001b[34m\u001b[1m19\u001b[0m,\n",
       "  },\n",
       "}\n"
      ]
     },
     "execution_count": 3,
     "metadata": {},
     "output_type": "execute_result"
    }
   ],
   "source": [
    "sortedCounts[:5]"
   ]
  },
  {
   "cell_type": "markdown",
   "metadata": {},
   "source": [
    "### 2.2 Visualize the time series."
   ]
  },
  {
   "cell_type": "code",
   "execution_count": 4,
   "metadata": {
    "collapsed": true
   },
   "outputs": [],
   "source": [
    "import (\n",
    "    \"github.com/gonum/plot\"\n",
    "    \"github.com/gonum/plot/plotter\"\n",
    "    \"github.com/gonum/plot/plotutil\"\n",
    "    \"github.com/gonum/plot/vg\"\n",
    ")"
   ]
  },
  {
   "cell_type": "code",
   "execution_count": 5,
   "metadata": {
    "collapsed": false
   },
   "outputs": [],
   "source": [
    "// Prepare the points for plotting.\n",
    "pts := make(plotter.XYs, len(sortedCounts))\n",
    "var i int\n",
    "for _, count := range sortedCounts {\n",
    "    pts[i].X = float64(count[0])\n",
    "    pts[i].Y = float64(count[1])\n",
    "    i++\n",
    "}"
   ]
  },
  {
   "cell_type": "code",
   "execution_count": 6,
   "metadata": {
    "collapsed": true
   },
   "outputs": [],
   "source": [
    "// Create a new plot.\n",
    "p, err := plot.New()\n",
    "if err != nil {\n",
    "    fmt.Println(err)\n",
    "}\n",
    "\n",
    "// Label the new plot.\n",
    "p.Title.Text = \"Daily Counts of Go Repos Created\"\n",
    "p.X.Label.Text = \"Days from Jan. 1, 2013\"\n",
    "p.Y.Label.Text = \"Count\"\n",
    "\n",
    "// Add the prepared points to the plot.\n",
    "if err = plotutil.AddLinePoints(p, \"Counts\", pts); err != nil {\n",
    "    fmt.Println(err)\n",
    "}\n",
    "\n",
    "// Save the plot to a PNG file.\n",
    "if err := p.Save(7*vg.Inch, 4*vg.Inch, \"countseries.png\"); err != nil {\n",
    "    fmt.Println(err)\n",
    "}"
   ]
  },
  {
   "cell_type": "markdown",
   "metadata": {},
   "source": [
    "# 3. Make a Prediction"
   ]
  },
  {
   "cell_type": "markdown",
   "metadata": {},
   "source": [
    "Now that we have parsed, organized, and visualized our data.  Let's make a prediction based on our data.  Because we have a daily time series of counts of Go repos created, we are going to try and predict how many Go repositories will be created at some future date using github.com/sajari/regression."
   ]
  },
  {
   "cell_type": "code",
   "execution_count": 7,
   "metadata": {
    "collapsed": true
   },
   "outputs": [],
   "source": [
    "import \"github.com/sajari/regression\""
   ]
  },
  {
   "cell_type": "code",
   "execution_count": 8,
   "metadata": {
    "collapsed": true
   },
   "outputs": [],
   "source": [
    "// Fit the regression model.\n",
    "var r regression.Regression\n",
    "r.SetObserved(\"count of created Github repos\")\n",
    "r.SetVar(0, \"days since Jan 1 2013\")\n",
    "for _, count := range sortedCounts {\n",
    "    r.Train(regression.DataPoint(\n",
    "        float64(count[1]),\n",
    "        []float64{float64(count[0])}))\n",
    "}\n",
    "\n",
    "r.Run()"
   ]
  },
  {
   "cell_type": "code",
   "execution_count": 9,
   "metadata": {
    "collapsed": true
   },
   "outputs": [],
   "source": [
    "// Predict how many Go repos will be created today\n",
    "prediction, err := r.Predict([]float64{1332.0})\n",
    "if err != nil {\n",
    "    fmt.Println(err)\n",
    "}"
   ]
  },
  {
   "cell_type": "code",
   "execution_count": 10,
   "metadata": {
    "collapsed": false
   },
   "outputs": [
    {
     "data": {
      "text/plain": [
       "\u001b[35m\u001b[1m202.334422\u001b[0m\n"
      ]
     },
     "execution_count": 10,
     "metadata": {},
     "output_type": "execute_result"
    }
   ],
   "source": [
    "prediction"
   ]
  },
  {
   "cell_type": "code",
   "execution_count": 11,
   "metadata": {
    "collapsed": false
   },
   "outputs": [
    {
     "data": {
      "text/plain": [
       "regression.\u001b[32mRegression\u001b[0m{\n",
       "  \u001b[33mnames\u001b[0m: regression.\u001b[32mdescribe\u001b[0m{\n",
       "    \u001b[33mobs\u001b[0m:  \u001b[31m\u001b[1m\"\u001b[0m\u001b[31mcount of created Github repos\u001b[0m\u001b[31m\u001b[1m\"\u001b[0m,\n",
       "    \u001b[33mvars\u001b[0m: {\n",
       "      \u001b[34m\u001b[1m0\u001b[0m: \u001b[31m\u001b[1m\"\u001b[0m\u001b[31mdays since Jan 1 2013\u001b[0m\u001b[31m\u001b[1m\"\u001b[0m,\n",
       "    },\n",
       "  },\n",
       "  \u001b[33mdata\u001b[0m:  []*regression.\u001b[32mdataPoint\u001b[0m{...},\n",
       "  \u001b[33mcoeff\u001b[0m: {\n",
       "    \u001b[34m\u001b[1m0\u001b[0m: \u001b[35m\u001b[1m3.475597\u001b[0m,\n",
       "    \u001b[34m\u001b[1m1\u001b[0m: \u001b[35m\u001b[1m0.149293\u001b[0m,\n",
       "  },\n",
       "  \u001b[33mR2\u001b[0m:                \u001b[35m\u001b[1m0.880573\u001b[0m,\n",
       "  \u001b[33mVarianceobserved\u001b[0m:  \u001b[35m\u001b[1m3306.306691\u001b[0m,\n",
       "  \u001b[33mVariancePredicted\u001b[0m: \u001b[35m\u001b[1m2911.443857\u001b[0m,\n",
       "  \u001b[33minitialised\u001b[0m:       \u001b[36m\u001b[1mtrue\u001b[0m,\n",
       "  \u001b[33mFormula\u001b[0m:           \u001b[31m\u001b[1m\"\u001b[0m\u001b[31mPredicted = 3.48 + days since Jan 1 2013*0.15\u001b[0m\u001b[31m\u001b[1m\"\u001b[0m,\n",
       "}\n"
      ]
     },
     "execution_count": 11,
     "metadata": {},
     "output_type": "execute_result"
    }
   ],
   "source": [
    "r"
   ]
  },
  {
   "cell_type": "code",
   "execution_count": null,
   "metadata": {
    "collapsed": true
   },
   "outputs": [],
   "source": []
  }
 ],
 "metadata": {
  "kernelspec": {
   "display_name": "Golang",
   "language": "go",
   "name": "gophernotes"
  },
  "language_info": {
   "name": "go"
  }
 },
 "nbformat": 4,
 "nbformat_minor": 0
}
